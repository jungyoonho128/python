{
  "nbformat": 4,
  "nbformat_minor": 0,
  "metadata": {
    "colab": {
      "name": "Untitled0.ipynb",
      "provenance": [],
      "authorship_tag": "ABX9TyPUde88H9KiHNj+4FJTw07b",
      "include_colab_link": true
    },
    "kernelspec": {
      "name": "python3",
      "display_name": "Python 3"
    },
    "language_info": {
      "name": "python"
    }
  },
  "cells": [
    {
      "cell_type": "markdown",
      "metadata": {
        "id": "view-in-github",
        "colab_type": "text"
      },
      "source": [
        "<a href=\"https://colab.research.google.com/github/jungyoonho128/python/blob/main/Untitled0.ipynb\" target=\"_parent\"><img src=\"https://colab.research.google.com/assets/colab-badge.svg\" alt=\"Open In Colab\"/></a>"
      ]
    },
    {
      "cell_type": "markdown",
      "metadata": {
        "id": "U6kh9ejNd9iX"
      },
      "source": [
        "###**조건문**\n",
        "\n",
        "- 특정 조건을 만족하는 경우에 수행할 작업이 있는 경우 사용\n",
        "- 참, 거짓 으로 표현된다.\n",
        "- if, elif, else 키워드 사용\n",
        "- 조건문의 경우, 들여쓰기로 하나의 블록을 만들고, 여러 종속된 코드로 사용해서 중첩 코드가 가능.\n",
        "\n",
        "- `블록(block)` : 들여쓰게 된 코드\n",
        "- 모든 블록의 시작과 마지막에는 :(콜론:colon)이 필요\n"
      ]
    },
    {
      "cell_type": "code",
      "metadata": {
        "colab": {
          "base_uri": "https://localhost:8080/"
        },
        "id": "RizVL-4Nedpu",
        "outputId": "50d92aca-60e9-4cd6-81e7-1a9a50e6935c"
      },
      "source": [
        "if 10>20: #거짓\n",
        "  print(\"참입니다\")\n",
        "print(\"거짓입니다\")"
      ],
      "execution_count": null,
      "outputs": [
        {
          "output_type": "stream",
          "text": [
            "거짓입니다\n"
          ],
          "name": "stdout"
        }
      ]
    },
    {
      "cell_type": "markdown",
      "metadata": {
        "id": "t5ww6-GJjaiJ"
      },
      "source": [
        "### **if, else**\n",
        "\n",
        "- if가 아닌 경우, 나머지 조건을 표현하고 싶을 때\n",
        "- if 조건이 참(true)인 경우, if 블록안의 코드가 수행\n",
        "  - 거짓(False)인 경우 else 블록의 코드가 실행\n",
        "- `주의!` if 와 else 사이에는 다른 코드가 삽입 불가 "
      ]
    },
    {
      "cell_type": "code",
      "metadata": {
        "colab": {
          "base_uri": "https://localhost:8080/"
        },
        "id": "0NA1f9NJlpwl",
        "outputId": "a593af9d-27c9-4dcf-feae-93ddc71f04ac"
      },
      "source": [
        "# 짝수 인 경우 \"짝수!\"를 출력, 홀수인 경우 \"홀수!\"를 출력하는 프로그램을 작성하시오\n",
        "\n",
        "a = 5\n",
        "\n",
        "if a%2 == 0 : #나머지가 0인경우 (참)\n",
        "  print(\"짝수!\")\n",
        "else:\n",
        "  print(\"홀수!\")\n"
      ],
      "execution_count": null,
      "outputs": [
        {
          "output_type": "stream",
          "text": [
            "홀수!\n"
          ],
          "name": "stdout"
        }
      ]
    },
    {
      "cell_type": "code",
      "metadata": {
        "colab": {
          "base_uri": "https://localhost:8080/"
        },
        "id": "sJO-fe4EtY20",
        "outputId": "c5f76776-4778-44f7-9d16-bfb97ff17864"
      },
      "source": [
        "score = 85\n",
        "\n",
        "if score == 100 :\n",
        "  print(\"치킨 먹는 날\")\n",
        "elif score>=90 :\n",
        "  print(\"성적 : A\")\n",
        "elif score>= 80 :\n",
        "  print(\"성적 : B\")\n",
        "elif score>= 70 :\n",
        "  print(\"성적 : C\")\n",
        "elif score>= 60 :\n",
        "  print(\"성적 : D\")\n",
        "else :\n",
        "  print(\"성적 : f\")\n",
        "print(\"수고하셨습니다\")"
      ],
      "execution_count": null,
      "outputs": [
        {
          "output_type": "stream",
          "text": [
            "성적 : B\n",
            "수고하셨습니다\n"
          ],
          "name": "stdout"
        }
      ]
    }
  ]
}